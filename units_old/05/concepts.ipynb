{
  "cells": [
    {
      "cell_type": "raw",
      "metadata": {},
      "source": [
        "---\n",
        "title: \"5: Concepts\"\n",
        "execute:\n",
        "  echo: true\n",
        "format:\n",
        "  revealjs:\n",
        "    menu: \n",
        "      openButton: false\n",
        "    scrollabe: true\n",
        "    navigation-mode: linear\n",
        "    transition: slide\n",
        "    simplemenu:\n",
        "      scale: 0.55\n",
        "      barhtml:\n",
        "        header: \"<div class='menubar'><a href='index.html'>back</a><ul class='menu'></ul>\"\n",
        "revealjs-plugins:\n",
        "    - simplemenu\n",
        "editor: \n",
        "  markdown: \n",
        "    wrap: 72\n",
        "---"
      ],
      "id": "8e2ceb7c"
    },
    {
      "cell_type": "markdown",
      "metadata": {},
      "source": [
        "# Repetition statements {.smaller}\n",
        "\n",
        "-   Repetition statements (or loops) repeat an action\n",
        "\n",
        "-   Each repetition of action is known as pass or iteration\n",
        "\n",
        "-   Two general types of loops:\n",
        "\n",
        "    -   Loops that continue until a condition occurs (**indefinite\n",
        "        iteration**)\n",
        "    -   Loops that repeat a predefined number of times (**definite\n",
        "        iteration**)\n",
        "\n",
        "-   Python has two repetition structure syntaxes:\n",
        "\n",
        "    -   `while`: indefinite iteration\n",
        "    -   `for`: definite iteration\n",
        "\n",
        "-   And some special commands to control these loops: `break` and\n",
        "    `continue`\n",
        "\n",
        "-   These also lend some programming patterns: **accumulators** and\n",
        "    **flags**\n",
        "\n",
        "# While loops {data-stack-name=\"while\"}\n",
        "\n",
        "::: columns\n",
        "::: {.column width=\"50%\"}\n",
        "-   Conditional iteration tests a condition to determine if a loop\n",
        "    should continue\n",
        "-   Called **continuation condition**\n"
      ],
      "id": "008c4b0a"
    },
    {
      "cell_type": "code",
      "metadata": {},
      "source": [
        "#| eval: false\n",
        "while <condition>:\n",
        "    <loop statements>"
      ],
      "id": "309567d2",
      "execution_count": null,
      "outputs": []
    },
    {
      "cell_type": "markdown",
      "metadata": {},
      "source": [
        ":::\n",
        "\n",
        "::: {.column width=\"50%\"}\n",
        "![](img/whileloop.PNG)\n",
        ":::\n",
        ":::\n",
        "\n",
        "## Examples\n"
      ],
      "id": "b0eb1f90"
    },
    {
      "cell_type": "code",
      "metadata": {},
      "source": [
        "x = 10\n",
        "while x > 0:\n",
        "    print(x)\n",
        "    x = x - 1"
      ],
      "id": "5d756d0d",
      "execution_count": null,
      "outputs": []
    },
    {
      "cell_type": "markdown",
      "metadata": {},
      "source": [
        "## Examples {.smaller}\n"
      ],
      "id": "e410625b"
    },
    {
      "cell_type": "code",
      "metadata": {},
      "source": [
        "#| eval: false\n",
        "count = 0\n",
        "while (count < 10):\n",
        "   # Point A\n",
        "   print (\"Olá...\", count)\n",
        "   count = count + 1\n",
        "   # Point B\n",
        "# Point C"
      ],
      "id": "48af3509",
      "execution_count": null,
      "outputs": []
    },
    {
      "cell_type": "markdown",
      "metadata": {},
      "source": [
        "Consider the following affirmations and say if they are right or wrong:\n",
        "\n",
        "1.  `count < 10` is always `True` at point C.\n",
        "\n",
        "2.  `count < 10` is always `False` at point B.\n",
        "\n",
        "3.  `count < 10` is always `True` at point A.\n",
        "\n",
        "4.  `count < 10` is always `False` at point C.\n",
        "\n",
        "5.  `count < 10` is always `True` at point B.\n",
        "\n",
        "## Infinite loop\n",
        "\n",
        "-   If a loop termination condition is never met, we have an \"infinite\n",
        "    loop\"\n"
      ],
      "id": "c2425569"
    },
    {
      "cell_type": "code",
      "metadata": {},
      "source": [
        "#| eval: false\n",
        "count = 0\n",
        "while (count < 9):\n",
        "   print('The count is:', count)\n",
        "print(\"Good bye!\")"
      ],
      "id": "de6bcd84",
      "execution_count": null,
      "outputs": []
    },
    {
      "cell_type": "markdown",
      "metadata": {},
      "source": [
        "-   In this case, notice we didn't update the **counting variable**\n",
        "    (also called **iterator** or **loop variable**)\n",
        "\n",
        "# Breaking loops {data-name=\"break\"}\n",
        "\n",
        "-   A `break` statement in a loop causes an immediate exit of the loop.\n",
        "-   Break can sometime simplify a loop's structure and improve\n",
        "    readability\n",
        "-   Example:\n"
      ],
      "id": "69218dea"
    },
    {
      "cell_type": "code",
      "metadata": {},
      "source": [
        "#| eval: false\n",
        "sum = 0.0\n",
        "while True:\n",
        "    data = input('Enter a number: ')\n",
        "    if data == '':\n",
        "        break\n",
        "    sum += float(data)\n",
        "print('The sum is', sum)"
      ],
      "id": "de1027a6",
      "execution_count": null,
      "outputs": []
    },
    {
      "cell_type": "markdown",
      "metadata": {},
      "source": [
        "# Continuing loops {data-name=\"continue\"}\n",
        "\n",
        "-   The `continue` statement causes the loop to immediately return to\n",
        "    the loop header statement\n",
        "-   A `continue` statement can sometimes improve readability\n",
        "-   Example: what does the following code do?\n"
      ],
      "id": "dc66cb80"
    },
    {
      "cell_type": "code",
      "metadata": {},
      "source": [
        "i = 0\n",
        "while i < 5:\n",
        "    i += 1\n",
        "    if i==2:\n",
        "        continue\n",
        "    print(i)"
      ],
      "id": "39325134",
      "execution_count": null,
      "outputs": []
    },
    {
      "cell_type": "markdown",
      "metadata": {},
      "source": [
        "# Pattern: flags {.smaller data-stack-name=\"flags\"}\n",
        "\n",
        "-   A flag is a programming pattern: a **boolean variable** that acts as\n",
        "    a signal to the program to determine whether or not the program as a\n",
        "    whole or a specific section of the program should run.\n",
        "    -   For example, you can set the flag to `True` and the program will\n",
        "        run continuously until any type of event makes it `False`. Then\n",
        "        the program, loop, or whatever you're using a flag for will\n",
        "        stop, or do something else.\n",
        "\n",
        "## What are the flags in this code?\n"
      ],
      "id": "2f773af2"
    },
    {
      "cell_type": "code",
      "metadata": {},
      "source": [
        "#| eval: false\n",
        "newlist = []\n",
        "number = int(input(\"Enter a number: \"))\n",
        "newlist.append(number)\n",
        "ascending = True\n",
        "descending = True\n",
        "while True:\n",
        "    next_number = input(\"Enter a number: \")\n",
        "    if next_number == '':\n",
        "        break\n",
        "    if int(next_number) < number:\n",
        "        ascending = False\n",
        "    else:\n",
        "        descending = False\n",
        "    newlist.append(int(next_number))\n",
        "    number = int(next_number)\n",
        "if ascending:\n",
        "    print(\"Sequence is in ascending order\")\n",
        "elif descending:\n",
        "    print(\"Sequence is in descending order\")\n",
        "else:\n",
        "    print(\"Sequence is not ordered\")"
      ],
      "id": "80dc29a7",
      "execution_count": null,
      "outputs": []
    },
    {
      "cell_type": "markdown",
      "metadata": {},
      "source": [
        "# Pattern: accumulator {data-stack-name=\"accumulators\"}\n",
        "\n",
        "-   An **accumulator** is the name we give to a variable that is updated\n",
        "    at each loop.\n",
        "-   For example, identify the accumulator variables in the following\n",
        "    code:\n"
      ],
      "id": "c814874a"
    },
    {
      "cell_type": "code",
      "metadata": {},
      "source": [
        "#| eval: false\n",
        "product = 1\n",
        "count = 0\n",
        "while count < 5:\n",
        "  number = int(input(\"Enter an integer:\"))\n",
        "  product *= number\n",
        "print(\"The total product is\", product)"
      ],
      "id": "b1790470",
      "execution_count": null,
      "outputs": []
    },
    {
      "cell_type": "markdown",
      "metadata": {},
      "source": [
        "------------------------------------------------------------------------\n",
        "\n",
        "## Example: Fibonacci sequence\n"
      ],
      "id": "023a8935"
    },
    {
      "cell_type": "code",
      "metadata": {},
      "source": [
        "#| eval: false\n",
        "acc1 = 1\n",
        "acc2 = 1\n",
        "fib = [1, 1]\n",
        "length_fib = 10\n",
        "i = 1\n",
        "while i < length_fib:\n",
        "    next_number = acc1 + acc2\n",
        "    fib.append(next_number)\n",
        "    acc1 = acc2\n",
        "    acc2 = next_number\n",
        "    i += 1\n",
        "print(\"The Fibonnaci sequence is\", fib)"
      ],
      "id": "e8f42d6b",
      "execution_count": null,
      "outputs": []
    },
    {
      "cell_type": "markdown",
      "metadata": {},
      "source": [
        "# For loops {.smaller data-stack-name=\"for\"}\n"
      ],
      "id": "f3ced9d4"
    },
    {
      "cell_type": "code",
      "metadata": {},
      "source": [
        "#| eval: false\n",
        "for variable in <container>:\n",
        "    <loop statements>"
      ],
      "id": "0dcaa58d",
      "execution_count": null,
      "outputs": []
    },
    {
      "cell_type": "markdown",
      "metadata": {},
      "source": [
        "for variable in container: statement 1 statement 2\n",
        "\n",
        "-   This code will repeat through each item in the container (list,\n",
        "    tuple, set, etc)\n",
        "    -   `variable` is declared at the loop and will only be availabe\n",
        "        inside the loop.\n",
        "    -   Its value will vary with each iteration, assuming the current\n",
        "        value in the sequence/container\n",
        "-   Like the while loop, statements in the for loop body must be\n",
        "    indented and aligned in the same column!\n",
        "\n",
        "## Examples\n"
      ],
      "id": "1a250a46"
    },
    {
      "cell_type": "code",
      "metadata": {},
      "source": [
        "for name in [\"Joe\", \"Amy\", \"Brad\", \"Zuki\",\"Thandi\",'Joe']:\n",
        "    print(\"Hi\", name, \"how are you?\")"
      ],
      "id": "f1cd4b61",
      "execution_count": null,
      "outputs": []
    },
    {
      "cell_type": "code",
      "metadata": {},
      "source": [
        "for val in (3, 11, 22, 0, -3):\n",
        "    print(val)"
      ],
      "id": "8079b476",
      "execution_count": null,
      "outputs": []
    },
    {
      "cell_type": "markdown",
      "metadata": {},
      "source": [
        "# Ranges {.smaller data-stack-name=\"range\"}\n",
        "\n",
        "-   `range` is a data type that offers an iterable sequence of integers\n",
        "\n",
        "To create a range, you can use 1 to 3 arguments:\n",
        "\n",
        "-   `range(stop)`: integer sequence will go from `0` to `stop - 1`\n",
        "    -   Example: `list(range(4))` is `[0,1,2,3]`\n",
        "-   `range(start,stop)`: integer sequence will go from `start` to\n",
        "    `stop - 1`\n",
        "    -   Example: `list(range(3, 7))` is `[3,4,5,6]`\n",
        "-   `range(start,stop, step)`: integer sequence will go from `start` to\n",
        "    `stop` summing `step` at each stage\n",
        "    -   Example: `list(range(1,10,3))` is `[1,4,7]`\n",
        "\n",
        "# Nested loops {data-stack-name=\"nested loops\"}\n",
        "\n",
        "Loops can also be placed inside of loops – this is referred to as a **nested loop**\n"
      ],
      "id": "2be09cc0"
    },
    {
      "cell_type": "code",
      "metadata": {},
      "source": [
        "for x in range(5):\n",
        "    print(x, end=' ')\n",
        "    for y in range(x,4):\n",
        "        print(y, end=' ')\n",
        "    print()"
      ],
      "id": "9677b6a4",
      "execution_count": null,
      "outputs": []
    },
    {
      "cell_type": "markdown",
      "metadata": {},
      "source": [
        "*You can visualize this code at [http://www.pythontutor.com/visualize.html](http://www.pythontutor.com/visualize.html)*\n",
        "\n",
        "## Example: matrix creation\n"
      ],
      "id": "a0c9644e"
    },
    {
      "cell_type": "code",
      "metadata": {},
      "source": [
        "#| eval: false\n",
        "mat = []\n",
        "lines = int(input(\"Enter the number of lines: \"))\n",
        "cols = int(input(\"Enter the number of columns: \"))\n",
        "for i in range(cols):\n",
        "  line = []\n",
        "  for j in range(lines):\n",
        "    x = float(input(f\"Enter the number at line {i} and col {j}: \"))\n",
        "    line.append(x)\n",
        "  mat.append(line)"
      ],
      "id": "f4d7c26d",
      "execution_count": null,
      "outputs": []
    },
    {
      "cell_type": "markdown",
      "metadata": {},
      "source": [
        "# List comprehensions {data-stack-name=\"list comprehensions\"}\n",
        "\n",
        "Python offers a shorter syntax when you want to create a new list based on the values of an existing sequence.\n",
        "\n",
        "For example:"
      ],
      "id": "d447a419"
    },
    {
      "cell_type": "code",
      "metadata": {},
      "source": [
        "names = [\"Anakin\", \"Luke\", \"Leia\"]\n",
        "names_with_last_name = [ n+\" Skywalker\" for n in names]\n",
        "print(names_with_last_name)"
      ],
      "id": "967fa14c",
      "execution_count": null,
      "outputs": []
    },
    {
      "cell_type": "markdown",
      "metadata": {},
      "source": [
        "## Other examples:\n",
        "\n",
        "Using ranges: "
      ],
      "id": "dcd6b62d"
    },
    {
      "cell_type": "code",
      "metadata": {},
      "source": [
        "length = 15\n",
        "exponents2 = [ 2**i for i in range(length)]\n",
        "print(exponents2)"
      ],
      "id": "1972f960",
      "execution_count": null,
      "outputs": []
    },
    {
      "cell_type": "markdown",
      "metadata": {},
      "source": [
        "Nesting comprehensions:"
      ],
      "id": "6dd5799e"
    },
    {
      "cell_type": "code",
      "metadata": {},
      "source": [
        "w = 4\n",
        "h = 4\n",
        "zero_matrix = [ [0 for j in range(h)] for i in range(w)]\n",
        "print(zero_matrix)"
      ],
      "id": "322e5010",
      "execution_count": null,
      "outputs": []
    },
    {
      "cell_type": "markdown",
      "metadata": {},
      "source": [
        "## Other examples:\n",
        "\n",
        "Checking conditions:\n"
      ],
      "id": "309a9a21"
    },
    {
      "cell_type": "code",
      "metadata": {},
      "source": [
        "x = [3, 6, -2, 5, -12, 5, -1]\n",
        "only_positives = [i for i in x if i > 0]\n",
        "print(only_positives)"
      ],
      "id": "ea0784a9",
      "execution_count": null,
      "outputs": []
    },
    {
      "cell_type": "code",
      "metadata": {},
      "source": [
        "fruits = [\"apple\", \"banana\", \"cherry\", \"kiwi\", \"mango\"]\n",
        "newlist = [x for x in fruits if \"a\" in x]\n",
        "print(newlist)"
      ],
      "id": "ff7d802d",
      "execution_count": null,
      "outputs": []
    }
  ],
  "metadata": {
    "kernelspec": {
      "name": "python3",
      "language": "python",
      "display_name": "Python 3 (ipykernel)"
    }
  },
  "nbformat": 4,
  "nbformat_minor": 5
}